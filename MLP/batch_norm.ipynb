{
 "cells": [
  {
   "attachments": {},
   "cell_type": "markdown",
   "metadata": {},
   "source": [
    "##  Batch Normalization\n",
    "\n",
    "- Normalizes the hidden states to be gaussian (especially at initialization) and then scaling the components by a batch gain and shifting them by a bias\n",
    "- because if they are way too small in values, the activation function does not activate. \n",
    "- and if they are too large, the activation function becomes saturated."
   ]
  },
  {
   "cell_type": "markdown",
   "metadata": {},
   "source": [
    "### Data"
   ]
  },
  {
   "cell_type": "code",
   "execution_count": 1,
   "metadata": {},
   "outputs": [],
   "source": [
    "import torch\n",
    "import torch.nn.functional as Func\n",
    "import matplotlib.pyplot as plt  # for making figures\n",
    "import random\n",
    "import math\n",
    "\n",
    "%matplotlib inline"
   ]
  },
  {
   "cell_type": "code",
   "execution_count": 2,
   "metadata": {},
   "outputs": [],
   "source": [
    "# Black code formatter (Optional)\n",
    "%load_ext lab_black"
   ]
  },
  {
   "cell_type": "code",
   "execution_count": 3,
   "metadata": {},
   "outputs": [
    {
     "data": {
      "text/plain": [
       "['emma', 'olivia', 'ava', 'isabella', 'sophia', 'charlotte', 'mia', 'amelia']"
      ]
     },
     "execution_count": 3,
     "metadata": {},
     "output_type": "execute_result"
    }
   ],
   "source": [
    "# read in all the words\n",
    "words = open(\"names.txt\", \"r\").read().splitlines()\n",
    "words[:8]"
   ]
  },
  {
   "cell_type": "code",
   "execution_count": 4,
   "metadata": {},
   "outputs": [
    {
     "data": {
      "text/plain": [
       "32033"
      ]
     },
     "execution_count": 4,
     "metadata": {},
     "output_type": "execute_result"
    }
   ],
   "source": [
    "len(words)"
   ]
  },
  {
   "cell_type": "code",
   "execution_count": 5,
   "metadata": {},
   "outputs": [
    {
     "name": "stdout",
     "output_type": "stream",
     "text": [
      "{1: 'a', 2: 'b', 3: 'c', 4: 'd', 5: 'e', 6: 'f', 7: 'g', 8: 'h', 9: 'i', 10: 'j', 11: 'k', 12: 'l', 13: 'm', 14: 'n', 15: 'o', 16: 'p', 17: 'q', 18: 'r', 19: 's', 20: 't', 21: 'u', 22: 'v', 23: 'w', 24: 'x', 25: 'y', 26: 'z', 0: '.'}\n",
      "27\n"
     ]
    }
   ],
   "source": [
    "# build the vocabulary of characters and mappings to/from integers\n",
    "chars = sorted(list(set(\"\".join(words))))\n",
    "stoi = {s: i + 1 for i, s in enumerate(chars)}\n",
    "stoi[\".\"] = 0\n",
    "itos = {i: s for s, i in stoi.items()}\n",
    "vocab_size = len(itos)\n",
    "print(itos)\n",
    "print(vocab_size)"
   ]
  },
  {
   "cell_type": "markdown",
   "metadata": {},
   "source": [
    "#### Creating the data set for the model"
   ]
  },
  {
   "cell_type": "code",
   "execution_count": 6,
   "metadata": {},
   "outputs": [],
   "source": [
    "# build the dataset\n",
    "block_size = (\n",
    "    3  # context length: how many characters do we take to predict the next one?\n",
    ")\n",
    "\n",
    "\n",
    "def build_dataset(words):\n",
    "    \"\"\"\n",
    "    This builds the dataset and split it into the appropriate sets\n",
    "\n",
    "    Args:\n",
    "        - Words: A file containing all the names\n",
    "\n",
    "    Returns:\n",
    "        - X: A tensor containing the previous sequence of characters\n",
    "        - Y: A tensor containing the next character\n",
    "    \"\"\"\n",
    "    X, Y = [], []\n",
    "    for w in words:\n",
    "        # print(w)\n",
    "\n",
    "        context = [0] * block_size\n",
    "\n",
    "        for ch in w + \".\":\n",
    "            ix = stoi[ch]\n",
    "            X.append(\n",
    "                context\n",
    "            )  # append a list of block size 3 for the number of chars in a word\n",
    "            Y.append(ix)  # append the character number\n",
    "            context = context[1:] + [ix]  # crop and append\n",
    "\n",
    "    X = torch.tensor(X)\n",
    "    Y = torch.tensor(Y)\n",
    "    print(X.shape, Y.shape)\n",
    "    return X, Y"
   ]
  },
  {
   "cell_type": "code",
   "execution_count": 7,
   "metadata": {},
   "outputs": [
    {
     "name": "stdout",
     "output_type": "stream",
     "text": [
      "torch.Size([182625, 3]) torch.Size([182625])\n",
      "torch.Size([22655, 3]) torch.Size([22655])\n",
      "torch.Size([22866, 3]) torch.Size([22866])\n"
     ]
    }
   ],
   "source": [
    "# Sampling from the dataset\n",
    "random.seed(42)\n",
    "random.shuffle(words)\n",
    "n1 = int(0.8 * len(words))\n",
    "n2 = int(0.9 * len(words))\n",
    "\n",
    "X_train, Y_train = build_dataset(words[:n1])\n",
    "X_dev, Y_dev = build_dataset(words[n1:n2])\n",
    "X_test, Y_test = build_dataset(words[n2:])"
   ]
  },
  {
   "attachments": {},
   "cell_type": "markdown",
   "metadata": {},
   "source": [
    "### Modelling"
   ]
  },
  {
   "cell_type": "code",
   "execution_count": 8,
   "metadata": {},
   "outputs": [
    {
     "name": "stdout",
     "output_type": "stream",
     "text": [
      "12297\n"
     ]
    }
   ],
   "source": [
    "# Adapted from MLP\n",
    "# Initialization\n",
    "n_embd = 10  # the dimensionality of the character embedding vectors\n",
    "n_hidden = 200  # the number of neurons in the hidden layer of the MLP\n",
    "\n",
    "gen = torch.Generator().manual_seed(2147483647)  # for reproducibility\n",
    "C = torch.randn((vocab_size, n_embd), generator=gen)\n",
    "W1 = torch.randn((n_embd * block_size, n_hidden), generator=gen) * (\n",
    "    (5 / 3) / math.sqrt(n_embd * block_size)\n",
    ")\n",
    "#b1 = torch.randn(n_hidden, generator=gen) * 0.01\n",
    "W2 = torch.randn((n_hidden, vocab_size), generator=gen) * 0.01\n",
    "b2 = (\n",
    "    torch.randn(vocab_size, generator=gen) * 0\n",
    ")  # initialize b2 as a smaller value to remove the bias\n",
    "\n",
    "# batch normalization parameters\n",
    "bnGain = torch.ones((1, n_hidden))\n",
    "bnBias = torch.zeros((1, n_hidden))\n",
    "bnMean_running = torch.zeros((1, n_hidden))\n",
    "bnSTD_running = torch.ones((1, n_hidden))\n",
    "\n",
    "parameters = [C, W1, W2, b2, bnBias, bnGain]\n",
    "print(sum(p.nelement() for p in parameters))  # number of parameters in total\n",
    "for p in parameters:\n",
    "    p.requires_grad = True"
   ]
  },
  {
   "cell_type": "code",
   "execution_count": 9,
   "metadata": {},
   "outputs": [
    {
     "name": "stdout",
     "output_type": "stream",
     "text": [
      "      0/ 200000: 3.3147\n",
      "  10000/ 200000: 2.1984\n",
      "  20000/ 200000: 2.3375\n",
      "  30000/ 200000: 2.4359\n",
      "  40000/ 200000: 2.0119\n",
      "  50000/ 200000: 2.2595\n",
      "  60000/ 200000: 2.4775\n",
      "  70000/ 200000: 2.1020\n",
      "  80000/ 200000: 2.2788\n",
      "  90000/ 200000: 2.1862\n",
      " 100000/ 200000: 1.9474\n",
      " 110000/ 200000: 2.3010\n",
      " 120000/ 200000: 1.9837\n",
      " 130000/ 200000: 2.4523\n",
      " 140000/ 200000: 2.3839\n",
      " 150000/ 200000: 2.1987\n",
      " 160000/ 200000: 1.9733\n",
      " 170000/ 200000: 1.8668\n",
      " 180000/ 200000: 1.9973\n",
      " 190000/ 200000: 1.8347\n"
     ]
    }
   ],
   "source": [
    "# Hyper parameter optimization (same as in MLP)\n",
    "max_steps = 200000\n",
    "batch_size = 32\n",
    "lossi = []\n",
    "\n",
    "for i in range(max_steps):\n",
    "    # Constructing the Minibatch\n",
    "    ix = torch.randint(0, X_train.shape[0], (batch_size,), generator=gen)\n",
    "    X_batch, Y_batch = X_train[ix], Y_train[ix]  # batch X,Y\n",
    "\n",
    "    # Forward pass\n",
    "    emb = C[X_batch]  # embed the characters into vectors\n",
    "    embcat = emb.view(emb.shape[0], -1)  # concatenate the vectors\n",
    "    ## Linear layer\n",
    "    hpreact = embcat @ W1 #+ b1  # hidden layer pre-activation\n",
    "\n",
    "    # Batch Normalization layer\n",
    "    # -------------------------------------------------------------\n",
    "    # standardizing the neurons and their firing rates ONLY at initialization\n",
    "    # during backpropagation, we are able to update the bias and gain\n",
    "    bnMeani = hpreact.mean(0, keepdim=True)\n",
    "    bnSTDi = hpreact.std(0, keepdim=True)\n",
    "    hpreact = (bnGain * ((hpreact - bnMeani) / bnSTDi)) + bnBias\n",
    "\n",
    "    with torch.no_grad():\n",
    "        # The running mean and std will be mostly the same and\n",
    "        # then give a small update in the current direction of the individual parameters\n",
    "        bnMean_running = 0.999 * bnMean_running + 0.001 * bnMeani\n",
    "        bnSTD_running = 0.999 * bnSTD_running + 0.001 * bnSTDi\n",
    "    # -------------------------------------------------------------\n",
    "\n",
    "    ## Non-linearity\n",
    "    h = torch.tanh(hpreact)  # hidden layer\n",
    "    logits = h @ W2 + b2  # output layer\n",
    "    loss = Func.cross_entropy(logits, Y_batch)  # loss function\n",
    "\n",
    "    # backward pass\n",
    "    for p in parameters:\n",
    "        p.grad = None\n",
    "    loss.backward()\n",
    "\n",
    "    # update\n",
    "    lr = 0.1 if i < 100000 else 0.01  # step learning rate decay\n",
    "    for p in parameters:\n",
    "        p.data += -lr * p.grad\n",
    "\n",
    "    # track stats\n",
    "    if i % 10000 == 0:  # print every once in a while\n",
    "        print(f\"{i:7d}/{max_steps:7d}: {loss.item():.4f}\")\n",
    "    lossi.append(loss.log10().item())"
   ]
  },
  {
   "attachments": {},
   "cell_type": "markdown",
   "metadata": {},
   "source": [
    "**Fixing tanh saturation**\n",
    "- where values greater than 0.99 are squashed and the gradients are not passed through/activated thereby creating dead neurons\n",
    "- the weights and biases are multiped by smaller values to reduce this effect"
   ]
  },
  {
   "cell_type": "code",
   "execution_count": 10,
   "metadata": {},
   "outputs": [
    {
     "data": {
      "text/plain": [
       "[<matplotlib.lines.Line2D at 0x7fa00173e1c0>]"
      ]
     },
     "execution_count": 10,
     "metadata": {},
     "output_type": "execute_result"
    },
    {
     "data": {
      "image/png": "[encoded data removed]",
      "text/plain": [
       "<Figure size 640x480 with 1 Axes>"
      ]
     },
     "metadata": {},
     "output_type": "display_data"
    }
   ],
   "source": [
    "plt.plot(lossi)"
   ]
  },
  {
   "cell_type": "code",
   "execution_count": 11,
   "metadata": {},
   "outputs": [],
   "source": [
    "# Calibrating the batch normalization at the end of training\n",
    "with torch.no_grad():\n",
    "    emb = C[X_train]\n",
    "    embcat = emb.view(emb.shape[0], -1)\n",
    "    hpreact = embcat @ W1 #+ b1\n",
    "    # Calculate the mean/std over the entire training set\n",
    "    bnMean = hpreact.mean(0, keepdim=True)\n",
    "    bnSTD = hpreact.std(0, keepdim=True)"
   ]
  },
  {
   "cell_type": "code",
   "execution_count": 14,
   "metadata": {},
   "outputs": [],
   "source": [
    "@torch.no_grad()  # this decorator disables gradient tracking\n",
    "def split_loss(split):\n",
    "    \"\"\"\n",
    "    Evaluation of the arbitrary data splits\n",
    "\n",
    "    Args:\n",
    "        split (str): the name of the split to the evaluated\n",
    "\n",
    "    Returns:\n",
    "        Name and Loss of the split\n",
    "    \"\"\"\n",
    "    x, y = {\n",
    "        \"train\": (X_train, Y_train),\n",
    "        \"val\": (X_dev, Y_dev),\n",
    "        \"test\": (X_test, Y_test),\n",
    "    }[split]\n",
    "\n",
    "    emb = C[x]  # (N, block_size, n_embd)\n",
    "    embcat = emb.view(emb.shape[0], -1)  # concat into (N, block_size * n_embd)\n",
    "\n",
    "    hpreact = embcat @ W1 #+ b1  # (N, n_hidden)\n",
    "\n",
    "    # Batch Normalization layer\n",
    "    # -------------------------------------------------------------\n",
    "    # standardizing the neurons and their firing rates ONLY at initialization\n",
    "    # during backpropagation, we are able to update the bias and gain\n",
    "    bnMean = hpreact.mean(0, keepdim=True)\n",
    "    bnSTD = hpreact.std(0, keepdim=True)\n",
    "    hpreact = (bnGain * ((hpreact - bnMean_running) / bnSTD_running)) + bnBias\n",
    "    # -------------------------------------------------------------\n",
    "    h = torch.tanh(hpreact)  # (N, n_hidden)\n",
    "    logits = h @ W2 + b2  # (N, vocab_size)\n",
    "    loss = Func.cross_entropy(logits, y)\n",
    "    print(split, loss.item())"
   ]
  },
  {
   "cell_type": "code",
   "execution_count": 15,
   "metadata": {},
   "outputs": [
    {
     "name": "stdout",
     "output_type": "stream",
     "text": [
      "train 2.066591739654541\n",
      "val 2.1050572395324707\n"
     ]
    }
   ],
   "source": [
    "split_loss(\"train\")\n",
    "split_loss(\"val\")"
   ]
  },
  {
   "cell_type": "code",
   "execution_count": 14,
   "metadata": {},
   "outputs": [
    {
     "name": "stdout",
     "output_type": "stream",
     "text": [
      "carmahxa.\n",
      "jahmer.\n",
      "kemri.\n",
      "reyton.\n",
      "kanden.\n",
      "jazhuel.\n",
      "den.\n",
      "art.\n",
      "kaqui.\n",
      "ner.\n",
      "kentzeriiv.\n",
      "kaleigh.\n",
      "ham.\n",
      "jorn.\n",
      "quint.\n",
      "saline.\n",
      "livani.\n",
      "waythoniearynix.\n",
      "kaeliduspi.\n",
      "edde.\n"
     ]
    }
   ],
   "source": [
    "# Sampling from the model\n",
    "g = torch.Generator().manual_seed(2147483647 + 10)\n",
    "\n",
    "for _ in range(20):\n",
    "    out = []\n",
    "    context = [0] * block_size\n",
    "    while True:\n",
    "        emb = C[torch.tensor([context])]  # (1,block_size,d)\n",
    "        h = torch.tanh(emb.view(1, -1) @ W1 + b1)\n",
    "        logits = h @ W2 + b2\n",
    "\n",
    "        probs = Func.softmax(logits, dim=1)\n",
    "\n",
    "        ix = torch.multinomial(probs, num_samples=1, generator=g).item()\n",
    "\n",
    "        context = context[1:] + [ix]\n",
    "        out.append(ix)\n",
    "\n",
    "        if ix == 0:\n",
    "            break\n",
    "\n",
    "    print(\"\".join(itos[i] for i in out))"
   ]
  }
 ],
 "metadata": {
  "kernelspec": {
   "display_name": "Python 3",
   "language": "python",
   "name": "python3"
  },
  "language_info": {
   "codemirror_mode": {
    "name": "ipython",
    "version": 3
   },
   "file_extension": ".py",
   "mimetype": "text/x-python",
   "name": "python",
   "nbconvert_exporter": "python",
   "pygments_lexer": "ipython3",
   "version": "3.10.2"
  },
  "orig_nbformat": 4,
  "vscode": {
   "interpreter": {
    "hash": "aee8b7b246df8f9039afb4144a1f6fd8d2ca17a180786b69acc140d282b71a49"
   }
  }
 },
 "nbformat": 4,
 "nbformat_minor": 2
}
