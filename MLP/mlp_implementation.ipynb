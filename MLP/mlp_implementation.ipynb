{
 "cells": [
  {
   "attachments": {},
   "cell_type": "markdown",
   "metadata": {},
   "source": [
    "### Paper Adaptation\n",
    "\n",
    "**A Neural Probabilistic Language Model -  Bengio et al. (2003) https://www.jmlr.org/papers/volume3/bengio03a/bengio03a.pdf**\n",
    "\n",
    "- The paper proposes the use of of Multi Layer Perceptrons to predict the next character token in a sequence. They have a vocabulary of 17,000 possible words and built a word level language model.\n",
    "\n",
    "- The code below is a multilayer perceptron (MLP) character-level language model. \n",
    "    - train/dev/test splits \n",
    "    - model training \n",
    "    - learning rate tuning \n",
    "    - hyperparameter optimization \n",
    "    - evaluation \n",
    "    - under/overfitting \n",
    "    - model sampling"
   ]
  },
  {
   "attachments": {},
   "cell_type": "markdown",
   "metadata": {},
   "source": [
    "### Data"
   ]
  },
  {
   "cell_type": "code",
   "execution_count": 108,
   "metadata": {},
   "outputs": [],
   "source": [
    "import torch\n",
    "import torch.nn.functional as Func\n",
    "import matplotlib.pyplot as plt # for making figures\n",
    "import random\n",
    "%matplotlib inline"
   ]
  },
  {
   "cell_type": "code",
   "execution_count": 2,
   "metadata": {},
   "outputs": [
    {
     "data": {
      "text/plain": [
       "['emma', 'olivia', 'ava', 'isabella', 'sophia', 'charlotte', 'mia', 'amelia']"
      ]
     },
     "execution_count": 2,
     "metadata": {},
     "output_type": "execute_result"
    }
   ],
   "source": [
    "# read in all the words\n",
    "words = open('names.txt', 'r').read().splitlines()\n",
    "words[:8]"
   ]
  },
  {
   "cell_type": "code",
   "execution_count": 3,
   "metadata": {},
   "outputs": [
    {
     "data": {
      "text/plain": [
       "32033"
      ]
     },
     "execution_count": 3,
     "metadata": {},
     "output_type": "execute_result"
    }
   ],
   "source": [
    "len(words)"
   ]
  },
  {
   "cell_type": "code",
   "execution_count": 4,
   "metadata": {},
   "outputs": [
    {
     "name": "stdout",
     "output_type": "stream",
     "text": [
      "{1: 'a', 2: 'b', 3: 'c', 4: 'd', 5: 'e', 6: 'f', 7: 'g', 8: 'h', 9: 'i', 10: 'j', 11: 'k', 12: 'l', 13: 'm', 14: 'n', 15: 'o', 16: 'p', 17: 'q', 18: 'r', 19: 's', 20: 't', 21: 'u', 22: 'v', 23: 'w', 24: 'x', 25: 'y', 26: 'z', 0: '.'}\n"
     ]
    }
   ],
   "source": [
    "# Build the vocabulary of characters and mappings to/from integers\n",
    "chars = sorted(list(set(''.join(words))))\n",
    "stoi = {s:i+1 for i,s in enumerate(chars)}\n",
    "stoi['.'] = 0\n",
    "itos = {i:s for s,i in stoi.items()}\n",
    "print(itos)"
   ]
  },
  {
   "attachments": {},
   "cell_type": "markdown",
   "metadata": {},
   "source": [
    "#### Creating the data set for the model"
   ]
  },
  {
   "cell_type": "code",
   "execution_count": 110,
   "metadata": {},
   "outputs": [],
   "source": [
    "# build the dataset\n",
    "block_size = 3 # context length: how many characters do we take to predict the next one?\n",
    "\n",
    "def build_dataset(words):\n",
    "    \"\"\"\n",
    "    This builds the dataset and split it into the appropriate sets\n",
    "\n",
    "    Args:\n",
    "        - Words: A file containing all the names\n",
    "\n",
    "    Returns:\n",
    "        - X: A tensor containing the previous sequence of characters\n",
    "        - Y: A tensor containing the next character \n",
    "    \"\"\" \n",
    "    X, Y = [], []\n",
    "    for w in words:\n",
    "        #print(w)\n",
    "\n",
    "        context = [0] * block_size\n",
    "\n",
    "        for ch in w + '.':\n",
    "            ix = stoi[ch]\n",
    "            #append a list of block size 3 for the number of chars in a word\n",
    "            X.append(context)\n",
    "            #append the character number\n",
    "            Y.append(ix)\n",
    "            #print(''.join(itos[i] for i in context), '--->', itos[ix])\n",
    "            #crop and append\n",
    "            context = context[1:] + [ix]\n",
    "\n",
    "    X = torch.tensor(X)\n",
    "    Y = torch.tensor(Y)\n",
    "    print(X.shape, Y.shape)  \n",
    "    return X, Y"
   ]
  },
  {
   "cell_type": "code",
   "execution_count": 111,
   "metadata": {},
   "outputs": [
    {
     "name": "stdout",
     "output_type": "stream",
     "text": [
      "torch.Size([182625, 3]) torch.Size([182625])\n",
      "torch.Size([22655, 3]) torch.Size([22655])\n",
      "torch.Size([22866, 3]) torch.Size([22866])\n"
     ]
    }
   ],
   "source": [
    "#Sampling from the dataset\n",
    "random.seed(42)\n",
    "random.shuffle(words)\n",
    "n1 = int(0.8*len(words))\n",
    "n2 = int(0.9*len(words))\n",
    "\n",
    "X_train, Y_train = build_dataset(words[:n1])\n",
    "X_dev, Y_dev = build_dataset(words[n1:n2])\n",
    "X_test, Y_test = build_dataset(words[n2:])"
   ]
  },
  {
   "attachments": {},
   "cell_type": "markdown",
   "metadata": {},
   "source": [
    "### Model Building"
   ]
  },
  {
   "attachments": {},
   "cell_type": "markdown",
   "metadata": {},
   "source": [
    "#### Implementing the embeddding lookup table\n",
    "- each one of the 27 characters will have 2 embeddings"
   ]
  },
  {
   "cell_type": "code",
   "execution_count": 10,
   "metadata": {},
   "outputs": [],
   "source": [
    "C = torch.randn((27,2))"
   ]
  },
  {
   "cell_type": "code",
   "execution_count": 16,
   "metadata": {},
   "outputs": [
    {
     "data": {
      "text/plain": [
       "torch.Size([32, 3, 2])"
      ]
     },
     "execution_count": 16,
     "metadata": {},
     "output_type": "execute_result"
    }
   ],
   "source": [
    "embedding = C[X]\n",
    "embedding.shape"
   ]
  },
  {
   "attachments": {},
   "cell_type": "markdown",
   "metadata": {},
   "source": [
    "#### Hidden Layer\n",
    "\n",
    "- Number of inputs to this layer = 3*2 since we have 2D embeddings in 3 places\n",
    "- Number of neurons is left to us"
   ]
  },
  {
   "cell_type": "code",
   "execution_count": 17,
   "metadata": {},
   "outputs": [],
   "source": [
    "W1 = torch.randn((6, 100))\n",
    "b1 = torch.randn(100)"
   ]
  },
  {
   "cell_type": "code",
   "execution_count": 25,
   "metadata": {},
   "outputs": [],
   "source": [
    "# To perfom w.x + b, we need to transform the embedding to a 32 x 6 matrix\n",
    "h = torch.tanh(embedding.view(embedding.shape[0],6) @ W1 + b1)"
   ]
  },
  {
   "cell_type": "code",
   "execution_count": 26,
   "metadata": {},
   "outputs": [
    {
     "data": {
      "text/plain": [
       "tensor([[-0.9921,  1.0000, -0.9999,  ...,  0.9857,  0.1167, -1.0000],\n",
       "        [-0.9979,  0.9940, -0.9997,  ...,  0.9993, -0.5877, -1.0000],\n",
       "        [ 0.1504, -0.9705, -0.9714,  ...,  0.9985, -0.7153, -0.9993],\n",
       "        ...,\n",
       "        [ 0.9517,  0.7216,  0.2264,  ..., -0.9323, -0.6437, -0.9970],\n",
       "        [ 0.9653,  0.9925,  0.9937,  ...,  0.7759,  0.7374, -0.9935],\n",
       "        [-0.9983,  0.9728, -0.9943,  ...,  0.9563, -0.8448, -1.0000]])"
      ]
     },
     "execution_count": 26,
     "metadata": {},
     "output_type": "execute_result"
    }
   ],
   "source": [
    "#tanh for the activation layer to put the ranges between 0 and 1\n",
    "h"
   ]
  },
  {
   "cell_type": "code",
   "execution_count": 27,
   "metadata": {},
   "outputs": [],
   "source": [
    "W2 = torch.randn((100, 27))\n",
    "b2 = torch.randn(27)"
   ]
  },
  {
   "cell_type": "code",
   "execution_count": 28,
   "metadata": {},
   "outputs": [],
   "source": [
    "logits = h @ W2 + b2"
   ]
  },
  {
   "cell_type": "code",
   "execution_count": 29,
   "metadata": {},
   "outputs": [
    {
     "data": {
      "text/plain": [
       "torch.Size([32, 27])"
      ]
     },
     "execution_count": 29,
     "metadata": {},
     "output_type": "execute_result"
    }
   ],
   "source": [
    "logits.shape"
   ]
  },
  {
   "cell_type": "code",
   "execution_count": 30,
   "metadata": {},
   "outputs": [],
   "source": [
    "counts = logits.exp()"
   ]
  },
  {
   "cell_type": "code",
   "execution_count": 31,
   "metadata": {},
   "outputs": [],
   "source": [
    "probs = counts / counts.sum(1, keepdims=True)"
   ]
  },
  {
   "cell_type": "code",
   "execution_count": 32,
   "metadata": {},
   "outputs": [
    {
     "data": {
      "text/plain": [
       "torch.Size([32, 27])"
      ]
     },
     "execution_count": 32,
     "metadata": {},
     "output_type": "execute_result"
    }
   ],
   "source": [
    "probs.shape"
   ]
  },
  {
   "cell_type": "code",
   "execution_count": 34,
   "metadata": {},
   "outputs": [
    {
     "data": {
      "text/plain": [
       "tensor([ 5, 13, 13,  1,  0, 15, 12,  9, 22,  9,  1,  0,  1, 22,  1,  0,  9, 19,\n",
       "         1,  2,  5, 12, 12,  1,  0, 19, 15, 16,  8,  9,  1,  0])"
      ]
     },
     "execution_count": 34,
     "metadata": {},
     "output_type": "execute_result"
    }
   ],
   "source": [
    "Y"
   ]
  },
  {
   "cell_type": "code",
   "execution_count": 38,
   "metadata": {},
   "outputs": [
    {
     "data": {
      "text/plain": [
       "tensor([2.6678e-09, 7.7589e-06, 5.2442e-05, 1.9277e-04, 1.4881e-10, 1.6728e-06,\n",
       "        2.6908e-14, 3.3025e-07, 7.5951e-01, 4.4134e-13, 5.8754e-09, 2.7110e-08,\n",
       "        2.9491e-08, 5.4655e-14, 8.0530e-06, 1.3555e-09, 1.3258e-05, 3.4147e-10,\n",
       "        2.3309e-03, 2.1641e-15, 4.8844e-10, 3.2512e-12, 1.0621e-03, 1.0260e-02,\n",
       "        1.3475e-08, 3.7320e-10, 1.7281e-04, 1.1660e-05, 1.2991e-12, 1.7033e-12,\n",
       "        4.1727e-11, 6.6666e-10])"
      ]
     },
     "execution_count": 38,
     "metadata": {},
     "output_type": "execute_result"
    }
   ],
   "source": [
    "# Getting the probability assigned to the correct next character\n",
    "probs[torch.arange(32), Y]"
   ]
  },
  {
   "cell_type": "code",
   "execution_count": 39,
   "metadata": {},
   "outputs": [
    {
     "data": {
      "text/plain": [
       "tensor(17.7709)"
      ]
     },
     "execution_count": 39,
     "metadata": {},
     "output_type": "execute_result"
    }
   ],
   "source": [
    "# Getting the loss function\n",
    "loss = probs[torch.arange(32), Y].log().mean().abs()\n",
    "loss"
   ]
  },
  {
   "attachments": {},
   "cell_type": "markdown",
   "metadata": {},
   "source": [
    "#### Combined for reproducibility"
   ]
  },
  {
   "attachments": {},
   "cell_type": "markdown",
   "metadata": {},
   "source": [
    "- Former network parametes (TOO SMALL)\n",
    "   -  gen = torch.Generator().manual_seed(2147483647) # for reproducibility\n",
    "   - C = torch.randn((27, 2), generator=gen)\n",
    "   - W1 = torch.randn((6, 100), generator=gen)\n",
    "   -  b1 = torch.randn(100, generator=gen)\n",
    "   -  W2 = torch.randn((100, 27), generator=gen)\n",
    "   -  b2 = torch.randn(27, generator=gen)\n",
    "   -  parameters = [C, W1, b1, W2, b2]"
   ]
  },
  {
   "cell_type": "code",
   "execution_count": 138,
   "metadata": {},
   "outputs": [],
   "source": [
    "#Scaled up to 200 neurons\n",
    "gen = torch.Generator().manual_seed(2147483647) # for reproducibility\n",
    "C = torch.randn((27, 10), generator=gen)\n",
    "W1 = torch.randn((30, 200), generator=gen)\n",
    "b1 = torch.randn(200, generator=gen)\n",
    "W2 = torch.randn((200, 27), generator=gen)\n",
    "b2 = torch.randn(27, generator=gen)\n",
    "parameters = [C, W1, b1, W2, b2]"
   ]
  },
  {
   "cell_type": "code",
   "execution_count": 139,
   "metadata": {},
   "outputs": [
    {
     "data": {
      "text/plain": [
       "11897"
      ]
     },
     "execution_count": 139,
     "metadata": {},
     "output_type": "execute_result"
    }
   ],
   "source": [
    "sum(p.nelement() for p in parameters) # number of parameters in total"
   ]
  },
  {
   "cell_type": "code",
   "execution_count": 140,
   "metadata": {},
   "outputs": [],
   "source": [
    "for p in parameters:\n",
    "    p.requires_grad = True"
   ]
  },
  {
   "attachments": {},
   "cell_type": "markdown",
   "metadata": {},
   "source": [
    "Since we are performing backward/forward pass on the entire dataset, the iteration time is slow\n",
    "- the adapated solution is to create random batches of the data and then only forward,backward and update on those mini batches and then continue iteratively"
   ]
  },
  {
   "cell_type": "code",
   "execution_count": 125,
   "metadata": {},
   "outputs": [],
   "source": [
    "#picking a learning rate for optimization\n",
    "lre = torch.linspace(-3, 0, 1000) #exponents\n",
    "lrs = 10**lre"
   ]
  },
  {
   "cell_type": "code",
   "execution_count": 126,
   "metadata": {},
   "outputs": [],
   "source": [
    "lrates = []\n",
    "losses = []\n",
    "steps= []"
   ]
  },
  {
   "attachments": {},
   "cell_type": "markdown",
   "metadata": {},
   "source": [
    "Learning Rate decay means taking the learning rate and 10x lower it since we are at the late stages of training potentially and may have to go slower "
   ]
  },
  {
   "cell_type": "code",
   "execution_count": 143,
   "metadata": {},
   "outputs": [],
   "source": [
    "for i in range(50000):\n",
    "\n",
    "    #Mini batch construction \n",
    "    ix = torch.randint(0, X_train.shape[0], (32,))\n",
    "\n",
    "    #Forward Pass\n",
    "    embedding = C[X_train[ix]] \n",
    "    h = torch.tanh(embedding.view(embedding.shape[0],30) @ W1 + b1) \n",
    "    logits = h @ W2 + b2 \n",
    "    \"\"\" counts = logits.exp() \n",
    "    probs = counts / counts.sum(1, keepdims=True)\n",
    "    # Getting the loss function\n",
    "    loss = probs[torch.arange(32), Y].log().mean().abs()\n",
    "    \"\"\"\n",
    "    #Loss for the mini batch\n",
    "    loss = Func.cross_entropy(logits, Y_train[ix])\n",
    "    #print(loss.item())\n",
    "\n",
    "    #Backward Pass\n",
    "    for p in parameters:\n",
    "        p.grad = None\n",
    "    loss.backward()\n",
    "\n",
    "    #Parameter Update using a learning rate\n",
    "    #lr = lrs[i]\n",
    "    #lr = 0.1 \n",
    "    #decayed learning rate \n",
    "    lr = 0.01\n",
    "    for p in parameters:\n",
    "        p.data += -lr * p.grad\n",
    "\n",
    "    #tracking losses with learning rate\n",
    "    lrates.append(lr)\n",
    "    steps.append(i)\n",
    "    losses.append(loss.log10().item())\n",
    "    \n",
    "#print(loss.item())"
   ]
  },
  {
   "attachments": {},
   "cell_type": "markdown",
   "metadata": {},
   "source": [
    "##### Losses"
   ]
  },
  {
   "cell_type": "code",
   "execution_count": 145,
   "metadata": {},
   "outputs": [
    {
     "name": "stdout",
     "output_type": "stream",
     "text": [
      "2.1681129932403564\n"
     ]
    }
   ],
   "source": [
    "#Batches loss\n",
    "print(loss.item())"
   ]
  },
  {
   "cell_type": "code",
   "execution_count": 147,
   "metadata": {},
   "outputs": [
    {
     "name": "stdout",
     "output_type": "stream",
     "text": [
      "2.189845085144043\n"
     ]
    }
   ],
   "source": [
    "# Loss for the dev split\n",
    "embedding = C[X_dev] # (32,3,2)\n",
    "h = torch.tanh(embedding.view(embedding.shape[0],30) @ W1 + b1) # (32, 100)\n",
    "logits = h @ W2 + b2 # (32, 27)\n",
    "#Loss for the dev split\n",
    "loss_dev = Func.cross_entropy(logits, Y_dev)\n",
    "print(loss_dev.item())"
   ]
  },
  {
   "cell_type": "code",
   "execution_count": 148,
   "metadata": {},
   "outputs": [
    {
     "name": "stdout",
     "output_type": "stream",
     "text": [
      "2.1944010257720947\n"
     ]
    }
   ],
   "source": [
    "# Loss for the test split\n",
    "embedding = C[X_test] # (32,3,2)\n",
    "h = torch.tanh(embedding.view(embedding.shape[0],30) @ W1 + b1) # (32, 100)\n",
    "logits = h @ W2 + b2 # (32, 27)\n",
    "#Loss for the test split\n",
    "loss_test = Func.cross_entropy(logits, Y_test)\n",
    "print(loss_test.item())"
   ]
  },
  {
   "attachments": {},
   "cell_type": "markdown",
   "metadata": {},
   "source": [
    "The dev and test losses are similar meaning the network parameters are very small and not enough to memorize the data. Performance is improved by scaling up the network"
   ]
  },
  {
   "attachments": {},
   "cell_type": "markdown",
   "metadata": {},
   "source": [
    "#### Plots"
   ]
  },
  {
   "cell_type": "code",
   "execution_count": 97,
   "metadata": {},
   "outputs": [
    {
     "data": {
      "text/plain": [
       "[<matplotlib.lines.Line2D at 0x7f99a83ba0d0>]"
      ]
     },
     "execution_count": 97,
     "metadata": {},
     "output_type": "execute_result"
    },
    {
     "data": {
      "image/png": "[encoded data removed]",
      "text/plain": [
       "<Figure size 640x480 with 1 Axes>"
      ]
     },
     "metadata": {},
     "output_type": "display_data"
    }
   ],
   "source": [
    "plt.plot(lrates, losses)"
   ]
  },
  {
   "cell_type": "code",
   "execution_count": 144,
   "metadata": {},
   "outputs": [
    {
     "data": {
      "text/plain": [
       "[<matplotlib.lines.Line2D at 0x7f99c8595b50>]"
      ]
     },
     "execution_count": 144,
     "metadata": {},
     "output_type": "execute_result"
    },
    {
     "data": {
      "image/png": "[encoded data removed]",
      "text/plain": [
       "<Figure size 640x480 with 1 Axes>"
      ]
     },
     "metadata": {},
     "output_type": "display_data"
    }
   ],
   "source": [
    "plt.plot(steps, losses)"
   ]
  },
  {
   "cell_type": "code",
   "execution_count": 137,
   "metadata": {},
   "outputs": [
    {
     "data": {
      "image/png": "[encoded data removed]",
      "text/plain": [
       "<Figure size 800x800 with 1 Axes>"
      ]
     },
     "metadata": {},
     "output_type": "display_data"
    }
   ],
   "source": [
    "# visualize dimensions 0 and 1 of the embedding matrix C for all characters\n",
    "plt.figure(figsize=(8,8))\n",
    "plt.scatter(C[:,0].data, C[:,1].data, s=200)\n",
    "for i in range(C.shape[0]):\n",
    "    plt.text(C[i,0].item(), C[i,1].item(), itos[i], ha=\"center\", va=\"center\", color='white')\n",
    "plt.grid('minor')"
   ]
  },
  {
   "attachments": {},
   "cell_type": "markdown",
   "metadata": {},
   "source": [
    "#### Model Sampling"
   ]
  },
  {
   "cell_type": "code",
   "execution_count": 149,
   "metadata": {},
   "outputs": [
    {
     "name": "stdout",
     "output_type": "stream",
     "text": [
      "carmah.\n",
      "amori.\n",
      "viha.\n",
      "mili.\n",
      "taty.\n",
      "salaysa.\n",
      "jazonen.\n",
      "delyah.\n",
      "jareen.\n",
      "nellara.\n",
      "chaiiv.\n",
      "kaleji.\n",
      "halm.\n",
      "join.\n",
      "quint.\n",
      "sulin.\n",
      "alian.\n",
      "quinathoniearyni.\n",
      "jaxen.\n",
      "dura.\n"
     ]
    }
   ],
   "source": [
    "# sample from the model\n",
    "g = torch.Generator().manual_seed(2147483647 + 10)\n",
    "\n",
    "for _ in range(20):\n",
    "    out = []\n",
    "    context = [0] * block_size \n",
    "    while True:\n",
    "      emb = C[torch.tensor([context])] # (1,block_size,d)\n",
    "      h = torch.tanh(emb.view(1, -1) @ W1 + b1)\n",
    "      logits = h @ W2 + b2\n",
    "\n",
    "      probs = Func.softmax(logits, dim=1)\n",
    "      \n",
    "      ix = torch.multinomial(probs, num_samples=1, generator=g).item()\n",
    "      \n",
    "      context = context[1:] + [ix]\n",
    "      out.append(ix)\n",
    "      \n",
    "      if ix == 0:\n",
    "        break\n",
    "    \n",
    "    print(''.join(itos[i] for i in out))"
   ]
  }
 ],
 "metadata": {
  "kernelspec": {
   "display_name": "venv",
   "language": "python",
   "name": "python3"
  },
  "language_info": {
   "codemirror_mode": {
    "name": "ipython",
    "version": 3
   },
   "file_extension": ".py",
   "mimetype": "text/x-python",
   "name": "python",
   "nbconvert_exporter": "python",
   "pygments_lexer": "ipython3",
   "version": "3.9.12"
  },
  "orig_nbformat": 4,
  "vscode": {
   "interpreter": {
    "hash": "fd8fde6f83dada9276d12fdb71d773558994168ed1b3bea457b8db38c02aa2e1"
   }
  }
 },
 "nbformat": 4,
 "nbformat_minor": 2
}
